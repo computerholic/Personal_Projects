{
 "cells": [
  {
   "cell_type": "code",
   "execution_count": 1,
   "metadata": {
    "collapsed": true
   },
   "outputs": [],
   "source": [
    "# Test on a Toy Example."
   ]
  },
  {
   "cell_type": "code",
   "execution_count": 2,
   "metadata": {
    "collapsed": true
   },
   "outputs": [],
   "source": [
    "import numpy as np # Linear Algebra library (Matix and ...)\n",
    "import pandas as pd # Dataframe and csv file\n",
    "import seaborn as sns # instead of matplotlib"
   ]
  },
  {
   "cell_type": "code",
   "execution_count": 3,
   "metadata": {
    "collapsed": true
   },
   "outputs": [],
   "source": [
    "df = pd.read_csv('xAPI-Edu-Data.csv') #Data Frame is ready"
   ]
  },
  {
   "cell_type": "code",
   "execution_count": 4,
   "metadata": {},
   "outputs": [
    {
     "data": {
      "text/html": [
       "<div>\n",
       "<style>\n",
       "    .dataframe thead tr:only-child th {\n",
       "        text-align: right;\n",
       "    }\n",
       "\n",
       "    .dataframe thead th {\n",
       "        text-align: left;\n",
       "    }\n",
       "\n",
       "    .dataframe tbody tr th {\n",
       "        vertical-align: top;\n",
       "    }\n",
       "</style>\n",
       "<table border=\"1\" class=\"dataframe\">\n",
       "  <thead>\n",
       "    <tr style=\"text-align: right;\">\n",
       "      <th></th>\n",
       "      <th>gender</th>\n",
       "      <th>NationalITy</th>\n",
       "      <th>PlaceofBirth</th>\n",
       "      <th>StageID</th>\n",
       "      <th>GradeID</th>\n",
       "      <th>SectionID</th>\n",
       "      <th>Topic</th>\n",
       "      <th>Semester</th>\n",
       "      <th>Relation</th>\n",
       "      <th>raisedhands</th>\n",
       "      <th>VisITedResources</th>\n",
       "      <th>AnnouncementsView</th>\n",
       "      <th>Discussion</th>\n",
       "      <th>ParentAnsweringSurvey</th>\n",
       "      <th>ParentschoolSatisfaction</th>\n",
       "      <th>StudentAbsenceDays</th>\n",
       "      <th>Class</th>\n",
       "    </tr>\n",
       "  </thead>\n",
       "  <tbody>\n",
       "    <tr>\n",
       "      <th>0</th>\n",
       "      <td>M</td>\n",
       "      <td>KW</td>\n",
       "      <td>KuwaIT</td>\n",
       "      <td>lowerlevel</td>\n",
       "      <td>G-04</td>\n",
       "      <td>A</td>\n",
       "      <td>IT</td>\n",
       "      <td>F</td>\n",
       "      <td>Father</td>\n",
       "      <td>15</td>\n",
       "      <td>16</td>\n",
       "      <td>2</td>\n",
       "      <td>20</td>\n",
       "      <td>Yes</td>\n",
       "      <td>Good</td>\n",
       "      <td>Under-7</td>\n",
       "      <td>M</td>\n",
       "    </tr>\n",
       "    <tr>\n",
       "      <th>1</th>\n",
       "      <td>M</td>\n",
       "      <td>KW</td>\n",
       "      <td>KuwaIT</td>\n",
       "      <td>lowerlevel</td>\n",
       "      <td>G-04</td>\n",
       "      <td>A</td>\n",
       "      <td>IT</td>\n",
       "      <td>F</td>\n",
       "      <td>Father</td>\n",
       "      <td>20</td>\n",
       "      <td>20</td>\n",
       "      <td>3</td>\n",
       "      <td>25</td>\n",
       "      <td>Yes</td>\n",
       "      <td>Good</td>\n",
       "      <td>Under-7</td>\n",
       "      <td>M</td>\n",
       "    </tr>\n",
       "    <tr>\n",
       "      <th>2</th>\n",
       "      <td>M</td>\n",
       "      <td>KW</td>\n",
       "      <td>KuwaIT</td>\n",
       "      <td>lowerlevel</td>\n",
       "      <td>G-04</td>\n",
       "      <td>A</td>\n",
       "      <td>IT</td>\n",
       "      <td>F</td>\n",
       "      <td>Father</td>\n",
       "      <td>10</td>\n",
       "      <td>7</td>\n",
       "      <td>0</td>\n",
       "      <td>30</td>\n",
       "      <td>No</td>\n",
       "      <td>Bad</td>\n",
       "      <td>Above-7</td>\n",
       "      <td>L</td>\n",
       "    </tr>\n",
       "    <tr>\n",
       "      <th>3</th>\n",
       "      <td>M</td>\n",
       "      <td>KW</td>\n",
       "      <td>KuwaIT</td>\n",
       "      <td>lowerlevel</td>\n",
       "      <td>G-04</td>\n",
       "      <td>A</td>\n",
       "      <td>IT</td>\n",
       "      <td>F</td>\n",
       "      <td>Father</td>\n",
       "      <td>30</td>\n",
       "      <td>25</td>\n",
       "      <td>5</td>\n",
       "      <td>35</td>\n",
       "      <td>No</td>\n",
       "      <td>Bad</td>\n",
       "      <td>Above-7</td>\n",
       "      <td>L</td>\n",
       "    </tr>\n",
       "    <tr>\n",
       "      <th>4</th>\n",
       "      <td>M</td>\n",
       "      <td>KW</td>\n",
       "      <td>KuwaIT</td>\n",
       "      <td>lowerlevel</td>\n",
       "      <td>G-04</td>\n",
       "      <td>A</td>\n",
       "      <td>IT</td>\n",
       "      <td>F</td>\n",
       "      <td>Father</td>\n",
       "      <td>40</td>\n",
       "      <td>50</td>\n",
       "      <td>12</td>\n",
       "      <td>50</td>\n",
       "      <td>No</td>\n",
       "      <td>Bad</td>\n",
       "      <td>Above-7</td>\n",
       "      <td>M</td>\n",
       "    </tr>\n",
       "  </tbody>\n",
       "</table>\n",
       "</div>"
      ],
      "text/plain": [
       "  gender NationalITy PlaceofBirth     StageID GradeID SectionID Topic  \\\n",
       "0      M          KW       KuwaIT  lowerlevel    G-04         A    IT   \n",
       "1      M          KW       KuwaIT  lowerlevel    G-04         A    IT   \n",
       "2      M          KW       KuwaIT  lowerlevel    G-04         A    IT   \n",
       "3      M          KW       KuwaIT  lowerlevel    G-04         A    IT   \n",
       "4      M          KW       KuwaIT  lowerlevel    G-04         A    IT   \n",
       "\n",
       "  Semester Relation  raisedhands  VisITedResources  AnnouncementsView  \\\n",
       "0        F   Father           15                16                  2   \n",
       "1        F   Father           20                20                  3   \n",
       "2        F   Father           10                 7                  0   \n",
       "3        F   Father           30                25                  5   \n",
       "4        F   Father           40                50                 12   \n",
       "\n",
       "   Discussion ParentAnsweringSurvey ParentschoolSatisfaction  \\\n",
       "0          20                   Yes                     Good   \n",
       "1          25                   Yes                     Good   \n",
       "2          30                    No                      Bad   \n",
       "3          35                    No                      Bad   \n",
       "4          50                    No                      Bad   \n",
       "\n",
       "  StudentAbsenceDays Class  \n",
       "0            Under-7     M  \n",
       "1            Under-7     M  \n",
       "2            Above-7     L  \n",
       "3            Above-7     L  \n",
       "4            Above-7     M  "
      ]
     },
     "execution_count": 4,
     "metadata": {},
     "output_type": "execute_result"
    }
   ],
   "source": [
    "df.head()"
   ]
  },
  {
   "cell_type": "code",
   "execution_count": 5,
   "metadata": {},
   "outputs": [
    {
     "name": "stdout",
     "output_type": "stream",
     "text": [
      "(480, 17)\n",
      "480\n",
      "17\n"
     ]
    }
   ],
   "source": [
    "t1=df.shape\n",
    "print(df.shape)\n",
    "print(t1[0])\n",
    "print(t1[1])"
   ]
  },
  {
   "cell_type": "code",
   "execution_count": 6,
   "metadata": {},
   "outputs": [
    {
     "data": {
      "text/plain": [
       "gender                      0\n",
       "NationalITy                 0\n",
       "PlaceofBirth                0\n",
       "StageID                     0\n",
       "GradeID                     0\n",
       "SectionID                   0\n",
       "Topic                       0\n",
       "Semester                    0\n",
       "Relation                    0\n",
       "raisedhands                 0\n",
       "VisITedResources            0\n",
       "AnnouncementsView           0\n",
       "Discussion                  0\n",
       "ParentAnsweringSurvey       0\n",
       "ParentschoolSatisfaction    0\n",
       "StudentAbsenceDays          0\n",
       "Class                       0\n",
       "dtype: int64"
      ]
     },
     "execution_count": 6,
     "metadata": {},
     "output_type": "execute_result"
    }
   ],
   "source": [
    "df.isnull().sum()  #To check how many null do we have in each "
   ]
  },
  {
   "cell_type": "markdown",
   "metadata": {},
   "source": [
    "# Data Visualization"
   ]
  },
  {
   "cell_type": "code",
   "execution_count": 7,
   "metadata": {},
   "outputs": [
    {
     "data": {
      "text/plain": [
       "<matplotlib.axes._subplots.AxesSubplot at 0xc4c5d68>"
      ]
     },
     "execution_count": 7,
     "metadata": {},
     "output_type": "execute_result"
    }
   ],
   "source": [
    "#Demonstrating the data based on Topic (IT, Arabic, ...)\n",
    "sns.countplot(x=\"PlaceofBirth\", data=df) #always based on count"
   ]
  },
  {
   "cell_type": "code",
   "execution_count": 8,
   "metadata": {},
   "outputs": [
    {
     "data": {
      "text/plain": [
       "<matplotlib.axes._subplots.AxesSubplot at 0xc4c5d68>"
      ]
     },
     "execution_count": 8,
     "metadata": {},
     "output_type": "execute_result"
    }
   ],
   "source": [
    "sns.set(rc={'figure.figsize':(11.7,8.27)}) #Bigger Size\n",
    "sns.countplot(y=\"Topic\", data=df,facecolor=(0,0,0,0),linewidth=5,edgecolor=sns.color_palette(\"dark\",10), palette=\"muted\") #always based on count"
   ]
  },
  {
   "cell_type": "code",
   "execution_count": 9,
   "metadata": {},
   "outputs": [
    {
     "data": {
      "text/plain": [
       "<matplotlib.axes._subplots.AxesSubplot at 0xc4c5d68>"
      ]
     },
     "execution_count": 9,
     "metadata": {},
     "output_type": "execute_result"
    }
   ],
   "source": [
    "sns.set()\n",
    "sns.countplot(x=\"Class\", data=df, palette=\"PuBu\") #Always based on count"
   ]
  },
  {
   "cell_type": "code",
   "execution_count": 10,
   "metadata": {},
   "outputs": [
    {
     "data": {
      "text/plain": [
       "M    211\n",
       "H    142\n",
       "L    127\n",
       "Name: Class, dtype: int64"
      ]
     },
     "execution_count": 10,
     "metadata": {},
     "output_type": "execute_result"
    }
   ],
   "source": [
    "df.Class.value_counts()"
   ]
  },
  {
   "cell_type": "code",
   "execution_count": 11,
   "metadata": {},
   "outputs": [
    {
     "data": {
      "text/plain": [
       "<matplotlib.axes._subplots.AxesSubplot at 0xc4c5d68>"
      ]
     },
     "execution_count": 11,
     "metadata": {},
     "output_type": "execute_result"
    }
   ],
   "source": [
    "sns.countplot(x=\"ParentschoolSatisfaction\", data=df, hue='Class' , palette=\"bright\") #Always based on count"
   ]
  },
  {
   "cell_type": "code",
   "execution_count": 12,
   "metadata": {},
   "outputs": [
    {
     "data": {
      "text/plain": [
       "<matplotlib.axes._subplots.AxesSubplot at 0xc4c5d68>"
      ]
     },
     "execution_count": 12,
     "metadata": {},
     "output_type": "execute_result"
    }
   ],
   "source": [
    "sns.set(rc={'figure.figsize':(17,9.27)}) #Bigger Size\n",
    "sns.countplot(x=\"raisedhands\", data=df, palette=\"bright\") #Always based on count"
   ]
  },
  {
   "cell_type": "code",
   "execution_count": 13,
   "metadata": {},
   "outputs": [
    {
     "name": "stderr",
     "output_type": "stream",
     "text": [
      "C:\\Users\\mk26665\\AppData\\Local\\Continuum\\anaconda3\\lib\\site-packages\\seaborn\\categorical.py:1222: RuntimeWarning: invalid value encountered in sqrt\n",
      "  dx = np.sqrt(d ** 2 - dy ** 2) * 1.05\n"
     ]
    }
   ],
   "source": [
    "Raised_hand = sns.violinplot(x=\"Class\", y=\"raisedhands\", data=df)\n",
    "Raised_hand = sns.swarmplot(x=\"Class\", y=\"raisedhands\", data=df , color=\".25\")"
   ]
  },
  {
   "cell_type": "code",
   "execution_count": 14,
   "metadata": {},
   "outputs": [
    {
     "name": "stderr",
     "output_type": "stream",
     "text": [
      "C:\\Users\\mk26665\\AppData\\Local\\Continuum\\anaconda3\\lib\\site-packages\\seaborn\\categorical.py:1222: RuntimeWarning: invalid value encountered in sqrt\n",
      "  dx = np.sqrt(d ** 2 - dy ** 2) * 1.05\n"
     ]
    }
   ],
   "source": [
    "Vis_res = sns.violinplot(x=\"Class\", y=\"VisITedResources\", data=df, inner=None)\n",
    "Vis_res = sns.swarmplot(x=\"Class\", y=\"VisITedResources\", data=df, color=\".25\")"
   ]
  },
  {
   "cell_type": "code",
   "execution_count": 15,
   "metadata": {},
   "outputs": [
    {
     "name": "stderr",
     "output_type": "stream",
     "text": [
      "C:\\Users\\mk26665\\AppData\\Local\\Continuum\\anaconda3\\lib\\site-packages\\seaborn\\categorical.py:1222: RuntimeWarning: invalid value encountered in sqrt\n",
      "  dx = np.sqrt(d ** 2 - dy ** 2) * 1.05\n"
     ]
    }
   ],
   "source": [
    "ax = sns.violinplot(x=\"Class\", y=\"AnnouncementsView\", data=df)\n",
    "ax = sns.swarmplot(x=\"Class\", y=\"AnnouncementsView\", data=df, color=\".25\")"
   ]
  },
  {
   "cell_type": "markdown",
   "metadata": {
    "collapsed": true
   },
   "source": [
    "# Result?\n",
    "Swarmplot indicates clearly that the lowest performers rarely visited the course resourses!\n",
    "It also showes that less people in high-level grade class viewed course announcements."
   ]
  },
  {
   "cell_type": "code",
   "execution_count": 16,
   "metadata": {},
   "outputs": [
    {
     "data": {
      "text/html": [
       "<div>\n",
       "<style>\n",
       "    .dataframe thead tr:only-child th {\n",
       "        text-align: right;\n",
       "    }\n",
       "\n",
       "    .dataframe thead th {\n",
       "        text-align: left;\n",
       "    }\n",
       "\n",
       "    .dataframe tbody tr th {\n",
       "        vertical-align: top;\n",
       "    }\n",
       "</style>\n",
       "<table border=\"1\" class=\"dataframe\">\n",
       "  <thead>\n",
       "    <tr style=\"text-align: right;\">\n",
       "      <th></th>\n",
       "      <th>raisedhands</th>\n",
       "      <th>VisITedResources</th>\n",
       "      <th>AnnouncementsView</th>\n",
       "      <th>Discussion</th>\n",
       "    </tr>\n",
       "  </thead>\n",
       "  <tbody>\n",
       "    <tr>\n",
       "      <th>count</th>\n",
       "      <td>4.000000</td>\n",
       "      <td>4.000000</td>\n",
       "      <td>4.000000</td>\n",
       "      <td>4.000000</td>\n",
       "    </tr>\n",
       "    <tr>\n",
       "      <th>mean</th>\n",
       "      <td>36.000000</td>\n",
       "      <td>43.750000</td>\n",
       "      <td>18.500000</td>\n",
       "      <td>43.250000</td>\n",
       "    </tr>\n",
       "    <tr>\n",
       "      <th>std</th>\n",
       "      <td>29.450523</td>\n",
       "      <td>46.636002</td>\n",
       "      <td>13.127579</td>\n",
       "      <td>36.890604</td>\n",
       "    </tr>\n",
       "    <tr>\n",
       "      <th>min</th>\n",
       "      <td>5.000000</td>\n",
       "      <td>1.000000</td>\n",
       "      <td>0.000000</td>\n",
       "      <td>11.000000</td>\n",
       "    </tr>\n",
       "    <tr>\n",
       "      <th>25%</th>\n",
       "      <td>15.500000</td>\n",
       "      <td>4.750000</td>\n",
       "      <td>14.250000</td>\n",
       "      <td>11.750000</td>\n",
       "    </tr>\n",
       "    <tr>\n",
       "      <th>50%</th>\n",
       "      <td>34.500000</td>\n",
       "      <td>43.000000</td>\n",
       "      <td>22.000000</td>\n",
       "      <td>41.000000</td>\n",
       "    </tr>\n",
       "    <tr>\n",
       "      <th>75%</th>\n",
       "      <td>55.000000</td>\n",
       "      <td>82.000000</td>\n",
       "      <td>26.250000</td>\n",
       "      <td>72.500000</td>\n",
       "    </tr>\n",
       "    <tr>\n",
       "      <th>max</th>\n",
       "      <td>70.000000</td>\n",
       "      <td>88.000000</td>\n",
       "      <td>30.000000</td>\n",
       "      <td>80.000000</td>\n",
       "    </tr>\n",
       "  </tbody>\n",
       "</table>\n",
       "</div>"
      ],
      "text/plain": [
       "       raisedhands  VisITedResources  AnnouncementsView  Discussion\n",
       "count     4.000000          4.000000           4.000000    4.000000\n",
       "mean     36.000000         43.750000          18.500000   43.250000\n",
       "std      29.450523         46.636002          13.127579   36.890604\n",
       "min       5.000000          1.000000           0.000000   11.000000\n",
       "25%      15.500000          4.750000          14.250000   11.750000\n",
       "50%      34.500000         43.000000          22.000000   41.000000\n",
       "75%      55.000000         82.000000          26.250000   72.500000\n",
       "max      70.000000         88.000000          30.000000   80.000000"
      ]
     },
     "execution_count": 16,
     "metadata": {},
     "output_type": "execute_result"
    }
   ],
   "source": [
    "df[9:13].describe() #from 9 to 13 not 13 #.describe => "
   ]
  },
  {
   "cell_type": "markdown",
   "metadata": {},
   "source": [
    "# Very Important step !\n",
    "First, the perceptron and SVC will be trained on the continuous data. by giving them layers :-)"
   ]
  },
  {
   "cell_type": "code",
   "execution_count": 28,
   "metadata": {},
   "outputs": [
    {
     "name": "stderr",
     "output_type": "stream",
     "text": [
      "C:\\Users\\mk26665\\AppData\\Local\\Continuum\\anaconda3\\lib\\site-packages\\pandas\\core\\indexing.py:179: SettingWithCopyWarning: \n",
      "A value is trying to be set on a copy of a slice from a DataFrame\n",
      "\n",
      "See the caveats in the documentation: http://pandas.pydata.org/pandas-docs/stable/indexing.html#indexing-view-versus-copy\n",
      "  self._setitem_with_indexer(indexer, value)\n"
     ]
    }
   ],
   "source": [
    "#to label class from L-M-H to 0, 1, 2\n",
    "df['Class'].loc[df.Class == 'L'] = 0.0\n",
    "df['Class'].loc[df.Class == 'M'] = 1.0\n",
    "df['Class'].loc[df.Class == 'H'] = 2.0\n",
    "\n",
    "#to label Gender from Male and Female to 0 and 1\n",
    "df['gender'].loc[df.gender == 'M'] = 0.0\n",
    "df['gender'].loc[df.gender == 'F'] = 1.0\n",
    "\n",
    "df['NationalITy'].loc[df.NationalITy == 'KW'] = 0\n",
    "df['NationalITy'].loc[df.NationalITy == 'lebanon'] = 1\n",
    "df['NationalITy'].loc[df.NationalITy == 'Egypt'] = 2\n",
    "df['NationalITy'].loc[df.NationalITy == 'SaudiArabia'] = 3\n",
    "df['NationalITy'].loc[df.NationalITy == 'USA'] = 4\n",
    "df['NationalITy'].loc[df.NationalITy == 'Jordan'] = 5\n",
    "df['NationalITy'].loc[df.NationalITy == 'venzuela'] = 6\n",
    "df['NationalITy'].loc[df.NationalITy == 'Iran'] = 7\n",
    "df['NationalITy'].loc[df.NationalITy == 'Tunis'] = 8\n",
    "df['NationalITy'].loc[df.NationalITy == 'Morocco'] = 9\n",
    "df['NationalITy'].loc[df.NationalITy == 'Syria'] = 10\n",
    "df['NationalITy'].loc[df.NationalITy == 'Palestine'] = 11\n",
    "df['NationalITy'].loc[df.NationalITy == 'Iraq'] = 12\n",
    "df['NationalITy'].loc[df.NationalITy == 'Lybia'] = 13\n",
    "\n",
    "df['PlaceofBirth'].loc[df.PlaceofBirth == 'KuwaIT'] = 0\n",
    "df['PlaceofBirth'].loc[df.PlaceofBirth == 'lebanon'] = 1\n",
    "df['PlaceofBirth'].loc[df.PlaceofBirth == 'Egypt'] = 2\n",
    "df['PlaceofBirth'].loc[df.PlaceofBirth == 'SaudiArabia'] = 3\n",
    "df['PlaceofBirth'].loc[df.PlaceofBirth == 'USA'] = 4\n",
    "df['PlaceofBirth'].loc[df.PlaceofBirth == 'Jordan'] = 5\n",
    "df['PlaceofBirth'].loc[df.PlaceofBirth == 'venzuela'] = 6\n",
    "df['PlaceofBirth'].loc[df.PlaceofBirth == 'Iran'] = 7\n",
    "df['PlaceofBirth'].loc[df.PlaceofBirth == 'Tunis'] = 8\n",
    "df['PlaceofBirth'].loc[df.PlaceofBirth == 'Morocco'] = 9\n",
    "df['PlaceofBirth'].loc[df.PlaceofBirth == 'Syria'] = 10\n",
    "df['PlaceofBirth'].loc[df.PlaceofBirth == 'Iraq'] = 11\n",
    "df['PlaceofBirth'].loc[df.PlaceofBirth == 'Palestine'] = 12\n",
    "df['PlaceofBirth'].loc[df.PlaceofBirth == 'Lybia'] = 13\n",
    "\n",
    "df['StageID'].loc[df.StageID == 'lowerlevel'] = 0\n",
    "df['StageID'].loc[df.StageID == 'MiddleSchool'] = 1\n",
    "df['StageID'].loc[df.StageID == 'HighSchool'] = 2\n",
    "\n",
    "df['GradeID'].loc[df.GradeID == 'G-04'] = 0\n",
    "df['GradeID'].loc[df.GradeID == 'G-07'] = 1\n",
    "df['GradeID'].loc[df.GradeID == 'G-08'] = 2\n",
    "df['GradeID'].loc[df.GradeID == 'G-06'] = 3\n",
    "df['GradeID'].loc[df.GradeID == 'G-05'] = 4\n",
    "df['GradeID'].loc[df.GradeID == 'G-09'] = 5\n",
    "df['GradeID'].loc[df.GradeID == 'G-12'] = 6\n",
    "df['GradeID'].loc[df.GradeID == 'G-11'] = 7\n",
    "df['GradeID'].loc[df.GradeID == 'G-10'] = 8\n",
    "df['GradeID'].loc[df.GradeID == 'G-02'] = 9\n",
    "\n",
    "df['SectionID'].loc[df.SectionID == 'A'] = 0\n",
    "df['SectionID'].loc[df.SectionID == 'B'] = 1\n",
    "df['SectionID'].loc[df.SectionID == 'C'] = 2\n",
    "\n",
    "df['Topic'].loc[df.Topic == 'IT'] = 0\n",
    "df['Topic'].loc[df.Topic == 'Math'] = 1\n",
    "df['Topic'].loc[df.Topic == 'Arabic'] = 2\n",
    "df['Topic'].loc[df.Topic == 'Science'] = 3\n",
    "df['Topic'].loc[df.Topic == 'English'] = 4\n",
    "df['Topic'].loc[df.Topic == 'Quran'] = 5\n",
    "df['Topic'].loc[df.Topic == 'Spanish'] = 6\n",
    "df['Topic'].loc[df.Topic == 'French'] = 7\n",
    "df['Topic'].loc[df.Topic == 'History'] = 8\n",
    "df['Topic'].loc[df.Topic == 'Biology'] = 9\n",
    "df['Topic'].loc[df.Topic == 'Chemistry'] = 10\n",
    "df['Topic'].loc[df.Topic == 'Geology'] = 11\n",
    "\n",
    "df['Semester'].loc[df.Semester == 'F'] = 0\n",
    "df['Semester'].loc[df.Semester == 'S'] = 1\n",
    "\n",
    "df['Relation'].loc[df.Relation == 'Father'] = 0\n",
    "df['Relation'].loc[df.Relation == 'Mum'] = 1\n",
    "\n",
    "df['ParentAnsweringSurvey'].loc[df.ParentAnsweringSurvey == 'Yes'] = 0\n",
    "df['ParentAnsweringSurvey'].loc[df.ParentAnsweringSurvey == 'No'] = 1\n",
    "\n",
    "df['ParentschoolSatisfaction'].loc[df.ParentschoolSatisfaction == 'Good'] = 0\n",
    "df['ParentschoolSatisfaction'].loc[df.ParentschoolSatisfaction == 'Bad'] = 1\n",
    "\n",
    "df['StudentAbsenceDays'].loc[df.StudentAbsenceDays == 'Under-7'] = 0\n",
    "df['StudentAbsenceDays'].loc[df.StudentAbsenceDays == 'Above-7'] = 1\n"
   ]
  },
  {
   "cell_type": "code",
   "execution_count": 29,
   "metadata": {},
   "outputs": [
    {
     "data": {
      "text/plain": [
       "\"print(df['StageID'].unique())\\nprint(df['GradeID'].unique())\\nprint(df['SectionID'].unique())\\nprint(df['Topic'].unique())\\nprint(df['Semester'].unique())\\nprint(df['Relation'].unique())\\nprint(df['ParentAnsweringSurvey'].unique())\\nprint(df['ParentschoolSatisfaction'].unique())\\nprint(df['StudentAbsenceDays'].unique())\""
      ]
     },
     "execution_count": 29,
     "metadata": {},
     "output_type": "execute_result"
    }
   ],
   "source": [
    "# comment to see if the previous labeling works or not\n",
    "'''print(df['StageID'].unique())\n",
    "print(df['GradeID'].unique())\n",
    "print(df['SectionID'].unique())\n",
    "print(df['Topic'].unique())\n",
    "print(df['Semester'].unique())\n",
    "print(df['Relation'].unique())\n",
    "print(df['ParentAnsweringSurvey'].unique())\n",
    "print(df['ParentschoolSatisfaction'].unique())\n",
    "print(df['StudentAbsenceDays'].unique())'''"
   ]
  },
  {
   "cell_type": "code",
   "execution_count": 32,
   "metadata": {},
   "outputs": [],
   "source": [
    "continuous_subset = df.ix[:,0:16]"
   ]
  },
  {
   "cell_type": "markdown",
   "metadata": {},
   "source": [
    "This is amazing that all those values in the data like the names and ... are number right now :-) this is just cool"
   ]
  },
  {
   "cell_type": "code",
   "execution_count": 33,
   "metadata": {},
   "outputs": [
    {
     "data": {
      "text/plain": [
       "(480, 16)"
      ]
     },
     "execution_count": 33,
     "metadata": {},
     "output_type": "execute_result"
    }
   ],
   "source": [
    "X = np.array(continuous_subset).astype('float64')   #Inputs and features\n",
    "y = np.array(df['Class']).astype('float64')         #Targets\n",
    "X.shape"
   ]
  },
  {
   "cell_type": "markdown",
   "metadata": {},
   "source": [
    "## Machine Learning Part ?"
   ]
  },
  {
   "cell_type": "code",
   "execution_count": 35,
   "metadata": {},
   "outputs": [
    {
     "name": "stderr",
     "output_type": "stream",
     "text": [
      "C:\\Users\\mk26665\\AppData\\Local\\Continuum\\anaconda3\\lib\\site-packages\\sklearn\\cross_validation.py:41: DeprecationWarning: This module was deprecated in version 0.18 in favor of the model_selection module into which all the refactored classes and functions are moved. Also note that the interface of the new CV iterators are different from that of this module. This module will be removed in 0.20.\n",
      "  \"This module will be removed in 0.20.\", DeprecationWarning)\n"
     ]
    }
   ],
   "source": [
    "from sklearn.cross_validation import train_test_split\n",
    "from sklearn.preprocessing import StandardScaler"
   ]
  },
  {
   "cell_type": "code",
   "execution_count": 44,
   "metadata": {
    "collapsed": true
   },
   "outputs": [],
   "source": [
    "X_train, X_test, y_train, y_test = train_test_split(X, y, test_size=0.3, random_state=0)\n",
    "sc = StandardScaler()\n",
    "sc.fit(X_train)\n",
    "X_train_std = sc.transform(X_train)\n",
    "X_test_std = sc.transform(X_test)"
   ]
  },
  {
   "cell_type": "code",
   "execution_count": 45,
   "metadata": {},
   "outputs": [
    {
     "name": "stdout",
     "output_type": "stream",
     "text": [
      "Misclassified samples: 55\n"
     ]
    },
    {
     "name": "stderr",
     "output_type": "stream",
     "text": [
      "C:\\Users\\mk26665\\AppData\\Local\\Continuum\\anaconda3\\lib\\site-packages\\sklearn\\linear_model\\stochastic_gradient.py:117: DeprecationWarning: n_iter parameter is deprecated in 0.19 and will be removed in 0.21. Use max_iter and tol instead.\n",
      "  DeprecationWarning)\n"
     ]
    }
   ],
   "source": [
    "from sklearn.linear_model import Perceptron\n",
    "\n",
    "ppn = Perceptron(n_iter=40, eta0=0.1, random_state=0)\n",
    "ppn.fit(X_train_std, y_train)\n",
    "y_pred = ppn.predict(X_test_std)\n",
    "print('Misclassified samples: %d' % (y_test != y_pred).sum())"
   ]
  },
  {
   "cell_type": "code",
   "execution_count": null,
   "metadata": {},
   "outputs": [],
   "source": []
  },
  {
   "cell_type": "code",
   "execution_count": 42,
   "metadata": {
    "collapsed": true
   },
   "outputs": [],
   "source": []
  },
  {
   "cell_type": "code",
   "execution_count": 43,
   "metadata": {
    "collapsed": true
   },
   "outputs": [],
   "source": []
  },
  {
   "cell_type": "code",
   "execution_count": null,
   "metadata": {
    "collapsed": true
   },
   "outputs": [],
   "source": []
  }
 ],
 "metadata": {
  "kernelspec": {
   "display_name": "Python 3",
   "language": "python",
   "name": "python3"
  },
  "language_info": {
   "codemirror_mode": {
    "name": "ipython",
    "version": 3
   },
   "file_extension": ".py",
   "mimetype": "text/x-python",
   "name": "python",
   "nbconvert_exporter": "python",
   "pygments_lexer": "ipython3",
   "version": "3.6.3"
  }
 },
 "nbformat": 4,
 "nbformat_minor": 2
}
